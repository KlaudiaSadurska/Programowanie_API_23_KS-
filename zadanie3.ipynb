{
  "nbformat": 4,
  "nbformat_minor": 0,
  "metadata": {
    "colab": {
      "provenance": []
    },
    "kernelspec": {
      "name": "python3",
      "display_name": "Python 3"
    },
    "language_info": {
      "name": "python"
    }
  },
  "cells": [
    {
      "cell_type": "markdown",
      "source": [
        "Zadanie 1"
      ],
      "metadata": {
        "id": "p4QfLnzRol9P"
      }
    },
    {
      "cell_type": "code",
      "source": [
        "Imię = input(\"Imię \")\n",
        "while not Imię.isalpha():\n",
        "  print(\"Błąd: Imię nie powinno zawierać liczb lub innych znaków niż litery.\")\n",
        "  Imię = input(\"Imię \")\n",
        "\n",
        "Nazwisko = input(\"Nazwisko: \")\n",
        "while not Nazwisko.isalpha():\n",
        "  print(\"Błąd: Nazwisko nie powinno zawierać liczb lub innych znaków niż litery.\")\n",
        "  Nazwisko = input(\"Nazwisko: \")\n",
        "\n",
        "Wiek = input(\"Wiek: \")\n",
        "while not Wiek.isdigit():\n",
        "  print(\"Błąd: Wiek powinien być liczbą.\")\n",
        "  Wiek = input(\"Wiek: \")\n",
        "\n",
        "print(\"\\nPodane przez Ciebie dane:\")\n",
        "print(\"Imię:\", Imię)\n",
        "print(\"Nazwisko:\", Nazwisko)\n",
        "print(\"Wiek:\", Wiek)"
      ],
      "metadata": {
        "colab": {
          "base_uri": "https://localhost:8080/"
        },
        "id": "-jLdD153olbH",
        "outputId": "01226b66-7956-4405-c506-2a5211e106e7"
      },
      "execution_count": 8,
      "outputs": [
        {
          "output_type": "stream",
          "name": "stdout",
          "text": [
            "Imię uu\n",
            "Nazwisko: yyy\n",
            "Wiek: 7\n",
            "\n",
            "Podane przez Ciebie dane:\n",
            "Imię: uu\n",
            "Nazwisko: yyy\n",
            "Wiek: 7\n"
          ]
        }
      ]
    },
    {
      "cell_type": "code",
      "execution_count": 5,
      "metadata": {
        "colab": {
          "base_uri": "https://localhost:8080/"
        },
        "id": "sXC4vu5Eohjv",
        "outputId": "3be70b1b-8948-4b9a-95a2-f99dff7d3ad4"
      },
      "outputs": [
        {
          "output_type": "stream",
          "name": "stdout",
          "text": [
            "Hasło: ww\n",
            "Powtórz hasło: ww\n",
            "\n",
            "Hasło:  ww\n"
          ]
        }
      ],
      "source": [
        "Hasło = input(\"Hasło: \")\n",
        "Powtórz_hasło = input(\"Powtórz hasło: \")\n",
        "while Hasło != Powtórz_hasło:\n",
        "  print(\"Hasła nie są zgodne: \")\n",
        "  Hasło = input(\"Hasło: \")\n",
        "  Powtórz_hasło = input(\"Powtórz hasło: \")\n",
        "print(\"\\nHasło: \", Hasło)"
      ]
    },
    {
      "cell_type": "code",
      "source": [
        "def usun_znaki(numer):\n",
        "  return numer.replace(\" \", \"\").replace(\"-\", \"\")\n",
        "\n",
        "Numer_telefonu = input(\"Numer telefonu: \")\n",
        "oczyszczony_numer = usun_znaki(Numer_telefonu)\n",
        "\n",
        "while not oczyszczony_numer.isdigit() or len(oczyszczony_numer) != 9:\n",
        "  print(\"Numer telefonu powinien składać się z 9 cyfr, np.123456789\")\n",
        "  Numer_telefonu = input(\"Numer telefonu: \")\n",
        "  oczyszczony_numer = usun_znaki(Numer_telefonu)"
      ],
      "metadata": {
        "colab": {
          "base_uri": "https://localhost:8080/"
        },
        "id": "I7JRpCL0M1tq",
        "outputId": "2bef43c4-c4f5-4b81-9fe0-a44502a1e338"
      },
      "execution_count": 5,
      "outputs": [
        {
          "name": "stdout",
          "output_type": "stream",
          "text": [
            "Numer telefonu: 333njj\n",
            "Numer telefonu powinien składać się z 9 cyfr, np.123456789\n",
            "Numer telefonu: 888888888\n"
          ]
        }
      ]
    },
    {
      "cell_type": "markdown",
      "source": [
        "Zadanie 2 - kalkulator"
      ],
      "metadata": {
        "id": "fAxmi3yorZT5"
      }
    },
    {
      "cell_type": "code",
      "source": [
        "Cyfra1 = input(\"Cyfra 1: \")\n",
        "while not Cyfra1.isdigit():\n",
        "  print(\"Błąd: cyfra powinnna być liczbą.\")\n",
        "  Cyfra1 = input(\"Cyfra 1: \")\n",
        "else:\n",
        "  Cyfra1_int = int(Cyfra1)\n",
        "\n",
        "Cyfra2 = input(\"Cyfra 2: \")\n",
        "while not Cyfra2.isdigit():\n",
        "  print(\"Błąd: cyfra powinnna być liczbą.\")\n",
        "  Cyfra2 = input(\"Cyfra 2: \")\n",
        "else:\n",
        "  Cyfra2_int = int(Cyfra2)\n",
        "\n",
        "Działanie = input(\"Działanie matematyczne(+, -, *, /, **, %): \")\n",
        "if Działanie == \"+\":\n",
        "  print(Cyfra1_int + Cyfra2_int)\n",
        "elif Działanie == \"-\":\n",
        "  print(Cyfra1_int - Cyfra2_int)\n",
        "elif Działanie == \"*\":\n",
        "  print(Cyfra1_int * Cyfra2_int)\n",
        "elif Działanie == \"/\":\n",
        "  if Cyfra2_int != 0:\n",
        "    print(\"Nie można dzielić przez zero\")\n",
        "  else:\n",
        "    print(Cyfra1_int / Cyfra2_int)\n",
        "elif Działanie == \"**\":\n",
        "  print(Cyfra1_int ** Cyfra2_int)\n",
        "elif Działanie == \"%\":\n",
        "  print(Cyfra1_int % Cyfra2_int)\n",
        "else:\n",
        "  print(\"Działanie nieznane\")"
      ],
      "metadata": {
        "id": "Fx04O9Vbq7Mx",
        "colab": {
          "base_uri": "https://localhost:8080/"
        },
        "outputId": "ad8396e6-0b34-46e3-d360-21a41bb64f1f"
      },
      "execution_count": 14,
      "outputs": [
        {
          "output_type": "stream",
          "name": "stdout",
          "text": [
            "Cyfra 1: 33\n",
            "Cyfra 2: 44\n",
            "Działanie matematyczne(+, -, *, /, **, %): -\n",
            "-11\n"
          ]
        }
      ]
    }
  ]
}