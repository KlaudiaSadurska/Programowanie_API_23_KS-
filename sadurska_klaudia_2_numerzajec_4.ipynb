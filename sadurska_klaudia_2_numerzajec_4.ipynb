{
  "nbformat": 4,
  "nbformat_minor": 0,
  "metadata": {
    "colab": {
      "provenance": []
    },
    "kernelspec": {
      "name": "python3",
      "display_name": "Python 3"
    },
    "language_info": {
      "name": "python"
    }
  },
  "cells": [
    {
      "cell_type": "markdown",
      "source": [
        "Zadanie 1"
      ],
      "metadata": {
        "id": "mf44orHLFy1E"
      }
    },
    {
      "cell_type": "code",
      "source": [
        "liczba_rzedow = int(input(\"Podaj liczbę rzędów: \"))\n",
        "\n",
        "for n in range(0, liczba_rzedow):\n",
        "  for i in range(1, n + 1):\n",
        "    print(i, end='')\n",
        "  print()"
      ],
      "metadata": {
        "colab": {
          "base_uri": "https://localhost:8080/"
        },
        "id": "Z8dYBmAUTA6V",
        "outputId": "87485b50-bf40-4a2a-ec60-b80bb82e9bdd"
      },
      "execution_count": 11,
      "outputs": [
        {
          "output_type": "stream",
          "name": "stdout",
          "text": [
            "Podaj liczbę rzędów: 7\n",
            "\n",
            "1\n",
            "12\n",
            "123\n",
            "1234\n",
            "12345\n",
            "123456\n"
          ]
        }
      ]
    },
    {
      "cell_type": "markdown",
      "source": [
        "Zadanie 2"
      ],
      "metadata": {
        "id": "BwUC8L8QFwCe"
      }
    },
    {
      "cell_type": "code",
      "source": [
        "for z in range(1, 6):\n",
        "  print(\"*\"*z)\n",
        "\n",
        "for x in range(4, 0, -1):\n",
        "  print(\"*\"*x)"
      ],
      "metadata": {
        "colab": {
          "base_uri": "https://localhost:8080/"
        },
        "id": "dMpi-sG1Fyo1",
        "outputId": "f6365c91-79e6-4e8b-97ab-6a1056f0b605"
      },
      "execution_count": 18,
      "outputs": [
        {
          "output_type": "stream",
          "name": "stdout",
          "text": [
            "*\n",
            "**\n",
            "***\n",
            "****\n",
            "*****\n",
            "****\n",
            "***\n",
            "**\n",
            "*\n"
          ]
        }
      ]
    },
    {
      "cell_type": "markdown",
      "source": [
        "Zadanie 3"
      ],
      "metadata": {
        "id": "aed7ftVDFSD8"
      }
    },
    {
      "cell_type": "code",
      "execution_count": 43,
      "metadata": {
        "colab": {
          "base_uri": "https://localhost:8080/"
        },
        "id": "JGltPuSvFA5p",
        "outputId": "eebf03ca-7dcb-47dc-db47-8b2b5bd6bcb2"
      },
      "outputs": [
        {
          "output_type": "stream",
          "name": "stdout",
          "text": [
            "[6, 2, 3, 7, 1, 'kukurydza', 'kukurydza', 'kukurydza']\n"
          ]
        }
      ],
      "source": [
        "lista = [6, 2, 3, 7, 1, 12, 56, 99]\n",
        "\n",
        "for elem, dwucyfrowe_liczby in enumerate (lista):\n",
        "  if 10 <= dwucyfrowe_liczby < 100:\n",
        "    lista[elem] = \"kukurydza\"\n",
        "\n",
        "print(lista)"
      ]
    },
    {
      "cell_type": "code",
      "source": [
        "cyfra = [x for x in lista if type(x) == int]\n",
        "\n",
        "if cyfra:\n",
        "  najmniejsza_wartosc = min(cyfra)\n",
        "  print(najmniejsza_wartosc)"
      ],
      "metadata": {
        "colab": {
          "base_uri": "https://localhost:8080/"
        },
        "id": "5toQNR82OsjX",
        "outputId": "73a7315c-032a-4390-ce48-426a16c3efe0"
      },
      "execution_count": 44,
      "outputs": [
        {
          "output_type": "stream",
          "name": "stdout",
          "text": [
            "1\n"
          ]
        }
      ]
    }
  ]
}
