{
  "nbformat": 4,
  "nbformat_minor": 0,
  "metadata": {
    "colab": {
      "provenance": []
    },
    "kernelspec": {
      "name": "python3",
      "display_name": "Python 3"
    },
    "language_info": {
      "name": "python"
    }
  },
  "cells": [
    {
      "cell_type": "markdown",
      "source": [
        "Zadanie 1"
      ],
      "metadata": {
        "id": "UfaiPShlDTKE"
      }
    },
    {
      "cell_type": "code",
      "execution_count": 11,
      "metadata": {
        "id": "pYFca7P_gxbE"
      },
      "outputs": [],
      "source": [
        "zmienna = \"Uwielbiam zajęcia z programowania\""
      ]
    },
    {
      "cell_type": "code",
      "source": [
        "zmienna[13:23]"
      ],
      "metadata": {
        "colab": {
          "base_uri": "https://localhost:8080/",
          "height": 35
        },
        "id": "jKYdngKTDoCh",
        "outputId": "f6627ef0-98eb-4c40-a6c9-0039c5b85b3f"
      },
      "execution_count": 12,
      "outputs": [
        {
          "output_type": "execute_result",
          "data": {
            "text/plain": [
              "'ęcia z pro'"
            ],
            "application/vnd.google.colaboratory.intrinsic+json": {
              "type": "string"
            }
          },
          "metadata": {},
          "execution_count": 12
        }
      ]
    },
    {
      "cell_type": "code",
      "source": [
        "zmienna[-33:]"
      ],
      "metadata": {
        "colab": {
          "base_uri": "https://localhost:8080/",
          "height": 35
        },
        "id": "8pu5SJBTD7y9",
        "outputId": "d863a81e-644c-4cfd-ecde-d39343099b0f"
      },
      "execution_count": 13,
      "outputs": [
        {
          "output_type": "execute_result",
          "data": {
            "text/plain": [
              "'Uwielbiam zajęcia z programowania'"
            ],
            "application/vnd.google.colaboratory.intrinsic+json": {
              "type": "string"
            }
          },
          "metadata": {},
          "execution_count": 13
        }
      ]
    },
    {
      "cell_type": "code",
      "source": [
        "zmienna[1:33:3]"
      ],
      "metadata": {
        "colab": {
          "base_uri": "https://localhost:8080/",
          "height": 35
        },
        "id": "tkqUL1lEEbHF",
        "outputId": "7e7c32e7-cd53-4eea-bf12-13ac0701c6a0"
      },
      "execution_count": 14,
      "outputs": [
        {
          "output_type": "execute_result",
          "data": {
            "text/plain": [
              "'wlazęa oawi'"
            ],
            "application/vnd.google.colaboratory.intrinsic+json": {
              "type": "string"
            }
          },
          "metadata": {},
          "execution_count": 14
        }
      ]
    },
    {
      "cell_type": "markdown",
      "source": [
        "Zadanie 2"
      ],
      "metadata": {
        "id": "UUZHqrNLE4hE"
      }
    },
    {
      "cell_type": "code",
      "source": [
        "zdanie = \"Czarny to mój ulubiony kolor, niestety, kolor czarny bardzo szybko spiera się z moich ubrań\""
      ],
      "metadata": {
        "id": "3p6--kJPE53S"
      },
      "execution_count": 3,
      "outputs": []
    },
    {
      "cell_type": "code",
      "source": [
        "zdanie.istitle()"
      ],
      "metadata": {
        "colab": {
          "base_uri": "https://localhost:8080/"
        },
        "id": "vhJgzn4CGUDA",
        "outputId": "0b2e1163-65df-4fc0-f18f-8574c60abee7"
      },
      "execution_count": 10,
      "outputs": [
        {
          "output_type": "execute_result",
          "data": {
            "text/plain": [
              "False"
            ]
          },
          "metadata": {},
          "execution_count": 10
        }
      ]
    },
    {
      "cell_type": "code",
      "source": [
        "zdanie.startswith(\"C\")"
      ],
      "metadata": {
        "colab": {
          "base_uri": "https://localhost:8080/"
        },
        "id": "e0jIN2fXFNGQ",
        "outputId": "b2c1061d-10a6-4713-b8f3-99c23cbc15c0"
      },
      "execution_count": 9,
      "outputs": [
        {
          "output_type": "execute_result",
          "data": {
            "text/plain": [
              "False"
            ]
          },
          "metadata": {},
          "execution_count": 9
        }
      ]
    },
    {
      "cell_type": "code",
      "source": [
        "zdanie = zdanie.lower()"
      ],
      "metadata": {
        "id": "GM7DqPm9HZTw"
      },
      "execution_count": 15,
      "outputs": []
    },
    {
      "cell_type": "code",
      "source": [
        "zdanie = zdanie.replace(\"czarny\", \"biały\")"
      ],
      "metadata": {
        "id": "SVZ2NxC4HFyv"
      },
      "execution_count": 7,
      "outputs": []
    },
    {
      "cell_type": "code",
      "source": [
        "zdanie.capitalize()"
      ],
      "metadata": {
        "colab": {
          "base_uri": "https://localhost:8080/",
          "height": 35
        },
        "id": "zmFOFXJRH6IO",
        "outputId": "d57267f2-a25e-4dc4-8570-30855a08c602"
      },
      "execution_count": 8,
      "outputs": [
        {
          "output_type": "execute_result",
          "data": {
            "text/plain": [
              "'Biały to mój ulubiony kolor, niestety, kolor biały bardzo szybko spiera się z moich ubrań'"
            ],
            "application/vnd.google.colaboratory.intrinsic+json": {
              "type": "string"
            }
          },
          "metadata": {},
          "execution_count": 8
        }
      ]
    }
  ]
}