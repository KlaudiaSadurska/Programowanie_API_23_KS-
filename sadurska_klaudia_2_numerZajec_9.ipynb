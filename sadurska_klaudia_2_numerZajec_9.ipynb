{
  "nbformat": 4,
  "nbformat_minor": 0,
  "metadata": {
    "colab": {
      "provenance": []
    },
    "kernelspec": {
      "name": "python3",
      "display_name": "Python 3"
    },
    "language_info": {
      "name": "python"
    }
  },
  "cells": [
    {
      "cell_type": "code",
      "execution_count": 2,
      "metadata": {
        "id": "Qn7fVExML9by"
      },
      "outputs": [],
      "source": [
        "tekst1 = \"Imię i nazwisko: Hubar, Patryk. Data urodzenia: 7 czerwca 1993. Numer telefonu: 123-456-789\"\n",
        "tekst2 = \"Imię inazwisko: Mickiewicz, Adam. Data urodzenia: 22 stycznia 1877. Numer telefonu: 789456123\""
      ]
    },
    {
      "cell_type": "code",
      "source": [
        "!pip install regex"
      ],
      "metadata": {
        "colab": {
          "base_uri": "https://localhost:8080/"
        },
        "id": "mZMa-P7CY9Yu",
        "outputId": "340b9e31-a091-4bf1-d10a-634d08b75a77"
      },
      "execution_count": 3,
      "outputs": [
        {
          "output_type": "stream",
          "name": "stdout",
          "text": [
            "Requirement already satisfied: regex in /usr/local/lib/python3.10/dist-packages (2023.6.3)\n"
          ]
        }
      ]
    },
    {
      "cell_type": "code",
      "source": [
        "import regex as re"
      ],
      "metadata": {
        "id": "UApXj8CtZA7j"
      },
      "execution_count": 4,
      "outputs": []
    },
    {
      "cell_type": "code",
      "source": [
        "imie_nazwisko = re.findall(\"[A-Z][a-z]+\\W+\\s[A-Z][a-z]+\", tekst1), re.findall(\"[A-Z][a-z]+\\W+\\s[A-Z][a-z]+\", tekst2)"
      ],
      "metadata": {
        "id": "ahEjD7nxZKa2"
      },
      "execution_count": 5,
      "outputs": []
    },
    {
      "cell_type": "code",
      "source": [
        "imie_nazwisko"
      ],
      "metadata": {
        "colab": {
          "base_uri": "https://localhost:8080/"
        },
        "id": "3GAGLJxxZ_Ln",
        "outputId": "e52e2a02-9f76-4b96-c6c7-446ca682e0ab"
      },
      "execution_count": 6,
      "outputs": [
        {
          "output_type": "execute_result",
          "data": {
            "text/plain": [
              "(['Hubar, Patryk'], ['Mickiewicz, Adam'])"
            ]
          },
          "metadata": {},
          "execution_count": 6
        }
      ]
    },
    {
      "cell_type": "code",
      "source": [
        "data_urodzenia = re.findall(\"\\d+\\s[a-z]+\\s\\d+\", tekst1), re.findall(\"\\d+\\s[a-z]+\\s\\d+\", tekst2)"
      ],
      "metadata": {
        "id": "yp8a5_AcqWI9"
      },
      "execution_count": 9,
      "outputs": []
    },
    {
      "cell_type": "code",
      "source": [
        "data_urodzenia"
      ],
      "metadata": {
        "colab": {
          "base_uri": "https://localhost:8080/"
        },
        "id": "CH3AjX8ZqrLv",
        "outputId": "544763c9-3ee5-4e60-c47f-034328445024"
      },
      "execution_count": 10,
      "outputs": [
        {
          "output_type": "execute_result",
          "data": {
            "text/plain": [
              "(['7 czerwca 1993'], ['22 stycznia 1877'])"
            ]
          },
          "metadata": {},
          "execution_count": 10
        }
      ]
    },
    {
      "cell_type": "code",
      "source": [
        "numer_telefonu = re.findall(\"[0-9]{9}|[0-9]{3}.[0-9]{3}.[0-9]{3}\", tekst1), re.findall(\"[0-9]{9}|[0-9]{3}.[0-9]{3}.[0-9]{3}\", tekst2)"
      ],
      "metadata": {
        "id": "DmHoc_TRo0V3"
      },
      "execution_count": 7,
      "outputs": []
    },
    {
      "cell_type": "code",
      "source": [
        "numer_telefonu"
      ],
      "metadata": {
        "colab": {
          "base_uri": "https://localhost:8080/"
        },
        "id": "KRY9GXp5qRgQ",
        "outputId": "7d206ad2-519b-4c83-8f9c-bc5c998970ac"
      },
      "execution_count": 8,
      "outputs": [
        {
          "output_type": "execute_result",
          "data": {
            "text/plain": [
              "(['123-456-789'], ['789456123'])"
            ]
          },
          "metadata": {},
          "execution_count": 8
        }
      ]
    }
  ]
}